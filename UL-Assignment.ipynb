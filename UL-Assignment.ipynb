{
 "cells": [
  {
   "cell_type": "markdown",
   "id": "1c7bfa58-1a05-4f54-9381-2359efb24c10",
   "metadata": {},
   "source": [
    "### Imports and Data Loading"
   ]
  },
  {
   "cell_type": "code",
   "execution_count": 1,
   "id": "894201ea-71a5-46de-95c4-dec55eab76cc",
   "metadata": {},
   "outputs": [
    {
     "name": "stdout",
     "output_type": "stream",
     "text": [
      "Cancer dataset columns:\n",
      " Index(['Patient_ID', 'Age', 'Gender', 'Country_Region', 'Year', 'Genetic_Risk',\n",
      "       'Air_Pollution', 'Alcohol_Use', 'Smoking', 'Obesity_Level',\n",
      "       'Cancer_Type', 'Cancer_Stage', 'Treatment_Cost_USD', 'Survival_Years',\n",
      "       'Target_Severity_Score'],\n",
      "      dtype='object')\n",
      "Bankruptcy dataset columns:\n",
      " Index(['Bankrupt?', ' ROA(C) before interest and depreciation before interest',\n",
      "       ' ROA(A) before interest and % after tax',\n",
      "       ' ROA(B) before interest and depreciation after tax',\n",
      "       ' Operating Gross Margin', ' Realized Sales Gross Margin',\n",
      "       ' Operating Profit Rate', ' Pre-tax net Interest Rate',\n",
      "       ' After-tax net Interest Rate',\n",
      "       ' Non-industry income and expenditure/revenue',\n",
      "       ' Continuous interest rate (after tax)', ' Operating Expense Rate',\n",
      "       ' Research and development expense rate', ' Cash flow rate',\n",
      "       ' Interest-bearing debt interest rate', ' Tax rate (A)',\n",
      "       ' Net Value Per Share (B)', ' Net Value Per Share (A)',\n",
      "       ' Net Value Per Share (C)', ' Persistent EPS in the Last Four Seasons',\n",
      "       ' Cash Flow Per Share', ' Revenue Per Share (Yuan ¥)',\n",
      "       ' Operating Profit Per Share (Yuan ¥)',\n",
      "       ' Per Share Net profit before tax (Yuan ¥)',\n",
      "       ' Realized Sales Gross Profit Growth Rate',\n",
      "       ' Operating Profit Growth Rate', ' After-tax Net Profit Growth Rate',\n",
      "       ' Regular Net Profit Growth Rate', ' Continuous Net Profit Growth Rate',\n",
      "       ' Total Asset Growth Rate', ' Net Value Growth Rate',\n",
      "       ' Total Asset Return Growth Rate Ratio', ' Cash Reinvestment %',\n",
      "       ' Current Ratio', ' Quick Ratio', ' Interest Expense Ratio',\n",
      "       ' Total debt/Total net worth', ' Debt ratio %', ' Net worth/Assets',\n",
      "       ' Long-term fund suitability ratio (A)', ' Borrowing dependency',\n",
      "       ' Contingent liabilities/Net worth',\n",
      "       ' Operating profit/Paid-in capital',\n",
      "       ' Net profit before tax/Paid-in capital',\n",
      "       ' Inventory and accounts receivable/Net value', ' Total Asset Turnover',\n",
      "       ' Accounts Receivable Turnover', ' Average Collection Days',\n",
      "       ' Inventory Turnover Rate (times)', ' Fixed Assets Turnover Frequency',\n",
      "       ' Net Worth Turnover Rate (times)', ' Revenue per person',\n",
      "       ' Operating profit per person', ' Allocation rate per person',\n",
      "       ' Working Capital to Total Assets', ' Quick Assets/Total Assets',\n",
      "       ' Current Assets/Total Assets', ' Cash/Total Assets',\n",
      "       ' Quick Assets/Current Liability', ' Cash/Current Liability',\n",
      "       ' Current Liability to Assets', ' Operating Funds to Liability',\n",
      "       ' Inventory/Working Capital', ' Inventory/Current Liability',\n",
      "       ' Current Liabilities/Liability', ' Working Capital/Equity',\n",
      "       ' Current Liabilities/Equity', ' Long-term Liability to Current Assets',\n",
      "       ' Retained Earnings to Total Assets', ' Total income/Total expense',\n",
      "       ' Total expense/Assets', ' Current Asset Turnover Rate',\n",
      "       ' Quick Asset Turnover Rate', ' Working capitcal Turnover Rate',\n",
      "       ' Cash Turnover Rate', ' Cash Flow to Sales', ' Fixed Assets to Assets',\n",
      "       ' Current Liability to Liability', ' Current Liability to Equity',\n",
      "       ' Equity to Long-term Liability', ' Cash Flow to Total Assets',\n",
      "       ' Cash Flow to Liability', ' CFO to Assets', ' Cash Flow to Equity',\n",
      "       ' Current Liability to Current Assets', ' Liability-Assets Flag',\n",
      "       ' Net Income to Total Assets', ' Total assets to GNP price',\n",
      "       ' No-credit Interval', ' Gross Profit to Sales',\n",
      "       ' Net Income to Stockholder's Equity', ' Liability to Equity',\n",
      "       ' Degree of Financial Leverage (DFL)',\n",
      "       ' Interest Coverage Ratio (Interest expense to EBIT)',\n",
      "       ' Net Income Flag', ' Equity to Liability'],\n",
      "      dtype='object')\n"
     ]
    }
   ],
   "source": [
    "import pandas as pd\n",
    "import numpy as np\n",
    "from sklearn.preprocessing import StandardScaler\n",
    "\n",
    "# Load datasets\n",
    "cancer_df = pd.read_csv('cancer.csv')\n",
    "bankrupt_df = pd.read_csv('bankrupt.csv')\n",
    "\n",
    "# Show column names and info\n",
    "print(\"Cancer dataset columns:\\n\", cancer_df.columns)\n",
    "print(\"Bankruptcy dataset columns:\\n\", bankrupt_df.columns)\n"
   ]
  },
  {
   "cell_type": "markdown",
   "id": "ae69464a-6017-47a7-bd27-a9658bc0586b",
   "metadata": {},
   "source": [
    "### Preprocessing (Drop NAs, Keep Numeric, Scale)"
   ]
  },
  {
   "cell_type": "code",
   "execution_count": 2,
   "id": "9b4acaa1-f96f-4770-99e9-cd462f62f968",
   "metadata": {},
   "outputs": [],
   "source": [
    "# Drop rows with missing values\n",
    "cancer_df_clean = cancer_df.dropna()\n",
    "bankrupt_df_clean = bankrupt_df.dropna()\n",
    "\n",
    "# Select only numerical columns\n",
    "cancer_X = cancer_df_clean.select_dtypes(include=[np.number])\n",
    "bankrupt_X = bankrupt_df_clean.select_dtypes(include=[np.number])\n",
    "\n",
    "# Standardize features\n",
    "scaler_cancer = StandardScaler()\n",
    "cancer_X_scaled = scaler_cancer.fit_transform(cancer_X)\n",
    "\n",
    "scaler_bankrupt = StandardScaler()\n",
    "bankrupt_X_scaled = scaler_bankrupt.fit_transform(bankrupt_X)\n"
   ]
  },
  {
   "cell_type": "code",
   "execution_count": 3,
   "id": "a0cb5417-8ff6-471f-ace8-f4bdb4b6f56d",
   "metadata": {},
   "outputs": [
    {
     "name": "stdout",
     "output_type": "stream",
     "text": [
      "Silhouette (KMeans, Cancer): 0.08681559132410345\n",
      "Silhouette (GMM, Cancer): 0.07222682244912479\n",
      "Silhouette (KMeans, Bankrupt): 0.11391194021963115\n",
      "Silhouette (GMM, Bankrupt): 0.03379523488318877\n"
     ]
    }
   ],
   "source": [
    "from sklearn.cluster import KMeans\n",
    "from sklearn.mixture import GaussianMixture\n",
    "from sklearn.metrics import silhouette_score\n",
    "\n",
    "# You can change n_clusters if you wish (try 2-5)\n",
    "n_clusters = 3\n",
    "\n",
    "# K-Means\n",
    "kmeans_cancer = KMeans(n_clusters=n_clusters, random_state=42)\n",
    "kmeans_cancer_labels = kmeans_cancer.fit_predict(cancer_X_scaled)\n",
    "\n",
    "kmeans_bankrupt = KMeans(n_clusters=n_clusters, random_state=42)\n",
    "kmeans_bankrupt_labels = kmeans_bankrupt.fit_predict(bankrupt_X_scaled)\n",
    "\n",
    "# Gaussian Mixture Model (EM)\n",
    "gmm_cancer = GaussianMixture(n_components=n_clusters, random_state=42)\n",
    "gmm_cancer_labels = gmm_cancer.fit_predict(cancer_X_scaled)\n",
    "\n",
    "gmm_bankrupt = GaussianMixture(n_components=n_clusters, random_state=42)\n",
    "gmm_bankrupt_labels = gmm_bankrupt.fit_predict(bankrupt_X_scaled)\n",
    "\n",
    "# Silhouette Scores\n",
    "print(\"Silhouette (KMeans, Cancer):\", silhouette_score(cancer_X_scaled, kmeans_cancer_labels))\n",
    "print(\"Silhouette (GMM, Cancer):\", silhouette_score(cancer_X_scaled, gmm_cancer_labels))\n",
    "print(\"Silhouette (KMeans, Bankrupt):\", silhouette_score(bankrupt_X_scaled, kmeans_bankrupt_labels))\n",
    "print(\"Silhouette (GMM, Bankrupt):\", silhouette_score(bankrupt_X_scaled, gmm_bankrupt_labels))\n"
   ]
  },
  {
   "cell_type": "code",
   "execution_count": 4,
   "id": "cfc5b038-0860-4529-9f23-079db2ec64d7",
   "metadata": {},
   "outputs": [],
   "source": [
    "from sklearn.decomposition import PCA, FastICA\n",
    "from sklearn.random_projection import GaussianRandomProjection\n",
    "\n",
    "n_components = 2  \n",
    "\n",
    "# PCA\n",
    "pca_cancer = PCA(n_components=n_components)\n",
    "cancer_pca = pca_cancer.fit_transform(cancer_X_scaled)\n",
    "\n",
    "pca_bankrupt = PCA(n_components=n_components)\n",
    "bankrupt_pca = pca_bankrupt.fit_transform(bankrupt_X_scaled)\n",
    "\n",
    "# ICA\n",
    "ica_cancer = FastICA(n_components=n_components, random_state=42)\n",
    "cancer_ica = ica_cancer.fit_transform(cancer_X_scaled)\n",
    "\n",
    "ica_bankrupt = FastICA(n_components=n_components, random_state=42)\n",
    "bankrupt_ica = ica_bankrupt.fit_transform(bankrupt_X_scaled)\n",
    "\n",
    "# Randomized Projections\n",
    "rp_cancer = GaussianRandomProjection(n_components=n_components, random_state=42)\n",
    "cancer_rp = rp_cancer.fit_transform(cancer_X_scaled)\n",
    "\n",
    "rp_bankrupt = GaussianRandomProjection(n_components=n_components, random_state=42)\n",
    "bankrupt_rp = rp_bankrupt.fit_transform(bankrupt_X_scaled)\n"
   ]
  },
  {
   "cell_type": "code",
   "execution_count": 5,
   "id": "f439a70e-4572-46d1-8f72-c821f7125aad",
   "metadata": {},
   "outputs": [],
   "source": [
    "# Defining function to run on\n",
    "def run_clustering(X, n_clusters=3):\n",
    "    kmeans = KMeans(n_clusters=n_clusters, random_state=42).fit_predict(X)\n",
    "    gmm = GaussianMixture(n_components=n_clusters, random_state=42).fit_predict(X)\n",
    "    return kmeans, gmm\n",
    "\n",
    "# Cancer dataset\n",
    "km_pca_cancer, gm_pca_cancer = run_clustering(cancer_pca)\n",
    "km_ica_cancer, gm_ica_cancer = run_clustering(cancer_ica)\n",
    "km_rp_cancer,  gm_rp_cancer  = run_clustering(cancer_rp)\n",
    "\n",
    "# Bankruptcy dataset\n",
    "km_pca_bankrupt, gm_pca_bankrupt = run_clustering(bankrupt_pca)\n",
    "km_ica_bankrupt, gm_ica_bankrupt = run_clustering(bankrupt_ica)\n",
    "km_rp_bankrupt,  gm_rp_bankrupt  = run_clustering(bankrupt_rp)\n"
   ]
  },
  {
   "cell_type": "code",
   "execution_count": 6,
   "id": "e91e6d59-c560-40bb-81c9-aedc7b7624cf",
   "metadata": {},
   "outputs": [
    {
     "data": {
      "image/png": "[encoded data removed]",
      "text/plain": [
       "<Figure size 600x400 with 1 Axes>"
      ]
     },
     "metadata": {},
     "output_type": "display_data"
    },
    {
     "data": {
      "image/png": "[encoded data removed]",
      "text/plain": [
       "<Figure size 600x400 with 1 Axes>"
      ]
     },
     "metadata": {},
     "output_type": "display_data"
    }
   ],
   "source": [
    "import matplotlib.pyplot as plt\n",
    "\n",
    "# Visualize clustering for Cancer dataset (PCA)\n",
    "plt.figure(figsize=(6,4))\n",
    "plt.scatter(cancer_pca[:, 0], cancer_pca[:, 1], c=km_pca_cancer, cmap='rainbow')\n",
    "plt.title(\"KMeans Clusters (Cancer PCA)\")\n",
    "plt.xlabel(\"PC1\")\n",
    "plt.ylabel(\"PC2\")\n",
    "plt.show()\n",
    "\n",
    "# Visualize GMM for Cancer dataset (PCA)\n",
    "plt.figure(figsize=(6,4))\n",
    "plt.scatter(cancer_pca[:, 0], cancer_pca[:, 1], c=gm_pca_cancer, cmap='rainbow')\n",
    "plt.title(\"GMM Clusters (Cancer PCA)\")\n",
    "plt.xlabel(\"PC1\")\n",
    "plt.ylabel(\"PC2\")\n",
    "plt.show()\n",
    "\n",
    "# Repeat for ICA and RP, and for bankruptcy dataset as desired\n"
   ]
  },
  {
   "cell_type": "code",
   "execution_count": 7,
   "id": "b43343fb-4066-4085-a98e-a62e9a1caf1a",
   "metadata": {},
   "outputs": [
    {
     "name": "stdout",
     "output_type": "stream",
     "text": [
      "Cancer Original - KMeans Silhouette: 0.087\n",
      "Cancer Original - GMM Silhouette: 0.072\n",
      "Cancer PCA - KMeans Silhouette: 0.329\n",
      "Cancer PCA - GMM Silhouette: 0.330\n",
      "Cancer ICA - KMeans Silhouette: 0.337\n",
      "Cancer ICA - GMM Silhouette: 0.336\n",
      "Cancer RP - KMeans Silhouette: 0.360\n",
      "Cancer RP - GMM Silhouette: 0.360\n"
     ]
    }
   ],
   "source": [
    "# Example: Print silhouette scores\n",
    "methods = {\n",
    "    'Original': (cancer_X_scaled, kmeans_cancer_labels, gmm_cancer_labels),\n",
    "    'PCA':      (cancer_pca, km_pca_cancer, gm_pca_cancer),\n",
    "    'ICA':      (cancer_ica, km_ica_cancer, gm_ica_cancer),\n",
    "    'RP':       (cancer_rp, km_rp_cancer, gm_rp_cancer)\n",
    "}\n",
    "\n",
    "for name, (X, kmeans_labels, gmm_labels) in methods.items():\n",
    "    print(f\"Cancer {name} - KMeans Silhouette: {silhouette_score(X, kmeans_labels):.3f}\")\n",
    "    print(f\"Cancer {name} - GMM Silhouette: {silhouette_score(X, gmm_labels):.3f}\")\n"
   ]
  },
  {
   "cell_type": "code",
   "execution_count": 8,
   "id": "798d1916-6296-4e3b-9115-0aac5d338563",
   "metadata": {},
   "outputs": [],
   "source": [
    "import pandas as pd\n",
    "import numpy as np\n",
    "\n",
    "# Load and clean\n",
    "cancer_df = pd.read_csv('cancer.csv').dropna()\n",
    "# Keep only numeric columns\n",
    "cancer_X = cancer_df.select_dtypes(include=[np.number])\n"
   ]
  },
  {
   "cell_type": "code",
   "execution_count": 9,
   "id": "920e8f43-4767-4618-bb7b-22b1861967b5",
   "metadata": {},
   "outputs": [
    {
     "name": "stdout",
     "output_type": "stream",
     "text": [
      "n_cancer: 50000, d_cancer: 10\n"
     ]
    }
   ],
   "source": [
    "n_cancer, d_cancer = cancer_X.shape\n",
    "print(f\"n_cancer: {n_cancer}, d_cancer: {d_cancer}\")\n"
   ]
  },
  {
   "cell_type": "code",
   "execution_count": 10,
   "id": "f090a989-227d-4f06-8dcb-b2df3d583306",
   "metadata": {},
   "outputs": [
    {
     "data": {
      "text/plain": [
       "(50000, 10)"
      ]
     },
     "execution_count": 10,
     "metadata": {},
     "output_type": "execute_result"
    }
   ],
   "source": [
    "cancer_X.shape"
   ]
  },
  {
   "cell_type": "code",
   "execution_count": 11,
   "id": "c9c53163-fbce-404d-a23c-874e776a731f",
   "metadata": {},
   "outputs": [
    {
     "data": {
      "text/html": [
       "<div>\n",
       "<style scoped>\n",
       "    .dataframe tbody tr th:only-of-type {\n",
       "        vertical-align: middle;\n",
       "    }\n",
       "\n",
       "    .dataframe tbody tr th {\n",
       "        vertical-align: top;\n",
       "    }\n",
       "\n",
       "    .dataframe thead th {\n",
       "        text-align: right;\n",
       "    }\n",
       "</style>\n",
       "<table border=\"1\" class=\"dataframe\">\n",
       "  <thead>\n",
       "    <tr style=\"text-align: right;\">\n",
       "      <th></th>\n",
       "      <th>Age</th>\n",
       "      <th>Year</th>\n",
       "      <th>Genetic_Risk</th>\n",
       "      <th>Air_Pollution</th>\n",
       "      <th>Alcohol_Use</th>\n",
       "      <th>Smoking</th>\n",
       "      <th>Obesity_Level</th>\n",
       "      <th>Treatment_Cost_USD</th>\n",
       "      <th>Survival_Years</th>\n",
       "      <th>Target_Severity_Score</th>\n",
       "    </tr>\n",
       "  </thead>\n",
       "  <tbody>\n",
       "    <tr>\n",
       "      <th>0</th>\n",
       "      <td>71</td>\n",
       "      <td>2021</td>\n",
       "      <td>6.4</td>\n",
       "      <td>2.8</td>\n",
       "      <td>9.5</td>\n",
       "      <td>0.9</td>\n",
       "      <td>8.7</td>\n",
       "      <td>62913.44</td>\n",
       "      <td>5.9</td>\n",
       "      <td>4.92</td>\n",
       "    </tr>\n",
       "    <tr>\n",
       "      <th>1</th>\n",
       "      <td>34</td>\n",
       "      <td>2021</td>\n",
       "      <td>1.3</td>\n",
       "      <td>4.5</td>\n",
       "      <td>3.7</td>\n",
       "      <td>3.9</td>\n",
       "      <td>6.3</td>\n",
       "      <td>12573.41</td>\n",
       "      <td>4.7</td>\n",
       "      <td>4.65</td>\n",
       "    </tr>\n",
       "    <tr>\n",
       "      <th>2</th>\n",
       "      <td>80</td>\n",
       "      <td>2023</td>\n",
       "      <td>7.4</td>\n",
       "      <td>7.9</td>\n",
       "      <td>2.4</td>\n",
       "      <td>4.7</td>\n",
       "      <td>0.1</td>\n",
       "      <td>6984.33</td>\n",
       "      <td>7.1</td>\n",
       "      <td>5.84</td>\n",
       "    </tr>\n",
       "    <tr>\n",
       "      <th>3</th>\n",
       "      <td>40</td>\n",
       "      <td>2015</td>\n",
       "      <td>1.7</td>\n",
       "      <td>2.9</td>\n",
       "      <td>4.8</td>\n",
       "      <td>3.5</td>\n",
       "      <td>2.7</td>\n",
       "      <td>67446.25</td>\n",
       "      <td>1.6</td>\n",
       "      <td>3.12</td>\n",
       "    </tr>\n",
       "    <tr>\n",
       "      <th>4</th>\n",
       "      <td>43</td>\n",
       "      <td>2017</td>\n",
       "      <td>5.1</td>\n",
       "      <td>2.8</td>\n",
       "      <td>2.3</td>\n",
       "      <td>6.7</td>\n",
       "      <td>0.5</td>\n",
       "      <td>77977.12</td>\n",
       "      <td>2.9</td>\n",
       "      <td>3.62</td>\n",
       "    </tr>\n",
       "    <tr>\n",
       "      <th>...</th>\n",
       "      <td>...</td>\n",
       "      <td>...</td>\n",
       "      <td>...</td>\n",
       "      <td>...</td>\n",
       "      <td>...</td>\n",
       "      <td>...</td>\n",
       "      <td>...</td>\n",
       "      <td>...</td>\n",
       "      <td>...</td>\n",
       "      <td>...</td>\n",
       "    </tr>\n",
       "    <tr>\n",
       "      <th>49995</th>\n",
       "      <td>80</td>\n",
       "      <td>2023</td>\n",
       "      <td>2.3</td>\n",
       "      <td>7.5</td>\n",
       "      <td>2.8</td>\n",
       "      <td>3.8</td>\n",
       "      <td>2.9</td>\n",
       "      <td>71463.70</td>\n",
       "      <td>1.0</td>\n",
       "      <td>3.63</td>\n",
       "    </tr>\n",
       "    <tr>\n",
       "      <th>49996</th>\n",
       "      <td>40</td>\n",
       "      <td>2018</td>\n",
       "      <td>6.4</td>\n",
       "      <td>3.5</td>\n",
       "      <td>2.9</td>\n",
       "      <td>9.0</td>\n",
       "      <td>9.8</td>\n",
       "      <td>49619.66</td>\n",
       "      <td>0.4</td>\n",
       "      <td>6.03</td>\n",
       "    </tr>\n",
       "    <tr>\n",
       "      <th>49997</th>\n",
       "      <td>74</td>\n",
       "      <td>2015</td>\n",
       "      <td>6.2</td>\n",
       "      <td>1.6</td>\n",
       "      <td>8.7</td>\n",
       "      <td>4.7</td>\n",
       "      <td>4.0</td>\n",
       "      <td>5338.25</td>\n",
       "      <td>2.7</td>\n",
       "      <td>6.02</td>\n",
       "    </tr>\n",
       "    <tr>\n",
       "      <th>49998</th>\n",
       "      <td>21</td>\n",
       "      <td>2018</td>\n",
       "      <td>4.0</td>\n",
       "      <td>6.5</td>\n",
       "      <td>7.6</td>\n",
       "      <td>8.6</td>\n",
       "      <td>8.1</td>\n",
       "      <td>45100.47</td>\n",
       "      <td>7.5</td>\n",
       "      <td>6.54</td>\n",
       "    </tr>\n",
       "    <tr>\n",
       "      <th>49999</th>\n",
       "      <td>22</td>\n",
       "      <td>2023</td>\n",
       "      <td>5.1</td>\n",
       "      <td>9.8</td>\n",
       "      <td>3.2</td>\n",
       "      <td>0.0</td>\n",
       "      <td>0.7</td>\n",
       "      <td>64023.82</td>\n",
       "      <td>7.4</td>\n",
       "      <td>3.76</td>\n",
       "    </tr>\n",
       "  </tbody>\n",
       "</table>\n",
       "<p>50000 rows × 10 columns</p>\n",
       "</div>"
      ],
      "text/plain": [
       "       Age  Year  Genetic_Risk  Air_Pollution  Alcohol_Use  Smoking  \\\n",
       "0       71  2021           6.4            2.8          9.5      0.9   \n",
       "1       34  2021           1.3            4.5          3.7      3.9   \n",
       "2       80  2023           7.4            7.9          2.4      4.7   \n",
       "3       40  2015           1.7            2.9          4.8      3.5   \n",
       "4       43  2017           5.1            2.8          2.3      6.7   \n",
       "...    ...   ...           ...            ...          ...      ...   \n",
       "49995   80  2023           2.3            7.5          2.8      3.8   \n",
       "49996   40  2018           6.4            3.5          2.9      9.0   \n",
       "49997   74  2015           6.2            1.6          8.7      4.7   \n",
       "49998   21  2018           4.0            6.5          7.6      8.6   \n",
       "49999   22  2023           5.1            9.8          3.2      0.0   \n",
       "\n",
       "       Obesity_Level  Treatment_Cost_USD  Survival_Years  \\\n",
       "0                8.7            62913.44             5.9   \n",
       "1                6.3            12573.41             4.7   \n",
       "2                0.1             6984.33             7.1   \n",
       "3                2.7            67446.25             1.6   \n",
       "4                0.5            77977.12             2.9   \n",
       "...              ...                 ...             ...   \n",
       "49995            2.9            71463.70             1.0   \n",
       "49996            9.8            49619.66             0.4   \n",
       "49997            4.0             5338.25             2.7   \n",
       "49998            8.1            45100.47             7.5   \n",
       "49999            0.7            64023.82             7.4   \n",
       "\n",
       "       Target_Severity_Score  \n",
       "0                       4.92  \n",
       "1                       4.65  \n",
       "2                       5.84  \n",
       "3                       3.12  \n",
       "4                       3.62  \n",
       "...                      ...  \n",
       "49995                   3.63  \n",
       "49996                   6.03  \n",
       "49997                   6.02  \n",
       "49998                   6.54  \n",
       "49999                   3.76  \n",
       "\n",
       "[50000 rows x 10 columns]"
      ]
     },
     "execution_count": 11,
     "metadata": {},
     "output_type": "execute_result"
    }
   ],
   "source": [
    "cancer_X"
   ]
  },
  {
   "cell_type": "code",
   "execution_count": 12,
   "id": "56a43ed3-644c-4f5e-9d55-c6a2b4de22f4",
   "metadata": {},
   "outputs": [
    {
     "name": "stdout",
     "output_type": "stream",
     "text": [
      "n_bankrupt: 6819, d_bankrupt: 96\n"
     ]
    }
   ],
   "source": [
    "import numpy as np\n",
    "import pandas as pd\n",
    "\n",
    "bankrupt_df = pd.read_csv('bankrupt.csv').dropna()\n",
    "bankrupt_X = bankrupt_df.select_dtypes(include=[np.number])\n",
    "\n",
    "# sample and feature counts:\n",
    "n_bankrupt, d_bankrupt = bankrupt_X.shape\n",
    "print(f\"n_bankrupt: {n_bankrupt}, d_bankrupt: {d_bankrupt}\")\n"
   ]
  },
  {
   "cell_type": "code",
   "execution_count": 13,
   "id": "382ef0df-ee08-473d-8ff4-d718960e5670",
   "metadata": {},
   "outputs": [
    {
     "name": "stdout",
     "output_type": "stream",
     "text": [
      "n_bankrupt: 6819, d_bankrupt: 96\n"
     ]
    }
   ],
   "source": [
    "n_bankrupt, d_bankrupt = bankrupt_X.shape\n",
    "print(f\"n_bankrupt: {n_bankrupt}, d_bankrupt: {d_bankrupt}\")\n"
   ]
  },
  {
   "cell_type": "code",
   "execution_count": 14,
   "id": "04fcfec2-2cd3-4300-8a8a-b0525df96516",
   "metadata": {},
   "outputs": [],
   "source": [
    "import pandas as pd\n",
    "from sklearn.preprocessing import StandardScaler\n",
    "\n",
    "# Load data\n",
    "cancer_df = pd.read_csv('cancer.csv')\n",
    "\n",
    "# Drop rows with missing values\n",
    "cancer_df_clean = cancer_df.dropna()\n",
    "\n",
    "# Select only numerical columns \n",
    "cancer_X = cancer_df_clean.select_dtypes(include=['float64', 'int64'])\n",
    "\n",
    "# Standardize features (important for PCA/KMeans)\n",
    "scaler = StandardScaler()\n",
    "cancer_X_scaled = scaler.fit_transform(cancer_X)\n"
   ]
  },
  {
   "cell_type": "code",
   "execution_count": 15,
   "id": "f7033384-f114-4f0d-8a5a-b7ef34f542d4",
   "metadata": {},
   "outputs": [
    {
     "name": "stdout",
     "output_type": "stream",
     "text": [
      "Total variance explained by first two PCs: 30.3%\n"
     ]
    }
   ],
   "source": [
    "from sklearn.decomposition import PCA\n",
    "\n",
    "# Fit PCA with 2 components\n",
    "pca = PCA(n_components=2)\n",
    "cancer_pca = pca.fit_transform(cancer_X_scaled)\n",
    "\n",
    "# Explained variance\n",
    "explained_var = pca.explained_variance_ratio_\n",
    "total_explained = explained_var.sum() * 100\n",
    "print(f\"Total variance explained by first two PCs: {total_explained:.1f}%\")\n"
   ]
  },
  {
   "cell_type": "code",
   "execution_count": null,
   "id": "3bec8b5b-2f1d-4b82-83f4-038c1c98571a",
   "metadata": {},
   "outputs": [],
   "source": []
  },
  {
   "cell_type": "code",
   "execution_count": null,
   "id": "8face057-961c-4fca-99de-bffcbb3511b0",
   "metadata": {},
   "outputs": [],
   "source": []
  },
  {
   "cell_type": "code",
   "execution_count": null,
   "id": "7b5a7968-e7fe-47dc-bce9-e899dfc346ee",
   "metadata": {},
   "outputs": [],
   "source": []
  },
  {
   "cell_type": "code",
   "execution_count": 17,
   "id": "257bf870-dc4b-4ab3-815b-aaccd1e426fe",
   "metadata": {},
   "outputs": [],
   "source": [
    "# Neural Network"
   ]
  },
  {
   "cell_type": "code",
   "execution_count": 18,
   "id": "34e11281-6494-4319-aebc-f4393d9864ad",
   "metadata": {
    "scrolled": true
   },
   "outputs": [
    {
     "name": "stdout",
     "output_type": "stream",
     "text": [
      "Original - Accuracy: 0.123, F1: 0.120\n",
      "PCA - Accuracy: 0.124, F1: 0.112\n",
      "ICA - Accuracy: 0.128, F1: 0.107\n",
      "RP - Accuracy: 0.124, F1: 0.109\n"
     ]
    }
   ],
   "source": [
    "import pandas as pd\n",
    "import numpy as np\n",
    "from sklearn.preprocessing import StandardScaler, LabelEncoder\n",
    "from sklearn.model_selection import train_test_split\n",
    "from sklearn.decomposition import PCA, FastICA\n",
    "from sklearn.random_projection import GaussianRandomProjection\n",
    "from sklearn.neural_network import MLPClassifier\n",
    "from sklearn.metrics import accuracy_score, f1_score\n",
    "\n",
    "# Load and clean data\n",
    "cancer_df = pd.read_csv('cancer.csv')\n",
    "cancer_df_clean = cancer_df.dropna()\n",
    "cancer_X = cancer_df_clean.select_dtypes(include=[np.number])\n",
    "\n",
    "# Use Cancer_Type as label\n",
    "y = cancer_df_clean['Cancer_Type'].values\n",
    "le = LabelEncoder()\n",
    "y_encoded = le.fit_transform(y)\n",
    "\n",
    "# Standardize features\n",
    "scaler = StandardScaler()\n",
    "cancer_X_scaled = scaler.fit_transform(cancer_X)\n",
    "\n",
    "# Dimensionality reduction\n",
    "pca = PCA(n_components=2)\n",
    "cancer_pca = pca.fit_transform(cancer_X_scaled)\n",
    "\n",
    "ica = FastICA(n_components=2, random_state=42)\n",
    "cancer_ica = ica.fit_transform(cancer_X_scaled)\n",
    "\n",
    "rp = GaussianRandomProjection(n_components=2, random_state=42)\n",
    "cancer_rp = rp.fit_transform(cancer_X_scaled)\n",
    "\n",
    "# Train-test split\n",
    "X_train, X_test, y_train, y_test = train_test_split(cancer_X_scaled, y_encoded, test_size=0.3, random_state=42)\n",
    "X_train_pca, X_test_pca, _, _ = train_test_split(cancer_pca, y_encoded, test_size=0.3, random_state=42)\n",
    "X_train_ica, X_test_ica, _, _ = train_test_split(cancer_ica, y_encoded, test_size=0.3, random_state=42)\n",
    "X_train_rp, X_test_rp, _, _ = train_test_split(cancer_rp, y_encoded, test_size=0.3, random_state=42)\n",
    "\n",
    "# Neural network\n",
    "def run_nn(X_train, X_test, y_train, y_test, name=\"\"):\n",
    "    clf = MLPClassifier(hidden_layer_sizes=(32,), max_iter=300, random_state=42)\n",
    "    clf.fit(X_train, y_train)\n",
    "    y_pred = clf.predict(X_test)\n",
    "    acc = accuracy_score(y_test, y_pred)\n",
    "    f1 = f1_score(y_test, y_pred, average='weighted')\n",
    "    print(f\"{name} - Accuracy: {acc:.3f}, F1: {f1:.3f}\")\n",
    "\n",
    "run_nn(X_train, X_test, y_train, y_test, \"Original\")\n",
    "run_nn(X_train_pca, X_test_pca, y_train, y_test, \"PCA\")\n",
    "run_nn(X_train_ica, X_test_ica, y_train, y_test, \"ICA\")\n",
    "run_nn(X_train_rp, X_test_rp, y_train, y_test, \"RP\")\n"
   ]
  }
 ],
 "metadata": {
  "kernelspec": {
   "display_name": "Python 3 (ipykernel)",
   "language": "python",
   "name": "python3"
  },
  "language_info": {
   "codemirror_mode": {
    "name": "ipython",
    "version": 3
   },
   "file_extension": ".py",
   "mimetype": "text/x-python",
   "name": "python",
   "nbconvert_exporter": "python",
   "pygments_lexer": "ipython3",
   "version": "3.9.6"
  }
 },
 "nbformat": 4,
 "nbformat_minor": 5
}
